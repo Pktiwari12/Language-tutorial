{
 "cells": [
  {
   "cell_type": "markdown",
   "id": "25f4ce87",
   "metadata": {},
   "source": [
    "## Numpy Attribute"
   ]
  },
  {
   "cell_type": "code",
   "execution_count": 1,
   "id": "eb11950b",
   "metadata": {},
   "outputs": [],
   "source": [
    "import numpy as np\n",
    "np.random.seed(0)\n",
    "x1 = np.random.randint(10, size=6)\n",
    "x2 = np.random.randint(10,size=(3,4))\n",
    "x3 = np.random.randint(10,size=(3,4,6), dtype='int64')\n"
   ]
  },
  {
   "cell_type": "code",
   "execution_count": 9,
   "id": "d056f9ca",
   "metadata": {},
   "outputs": [
    {
     "name": "stdout",
     "output_type": "stream",
     "text": [
      "The dimension of array x1 =\t1\n",
      "The dimension of array x1 =\t2\n",
      "The dimension of array x1 =\t3\n"
     ]
    }
   ],
   "source": [
    "print(f'The dimension of array x1 =\\t{x1.ndim}')\n",
    "print(f'The dimension of array x1 =\\t{x2.ndim}')\n",
    "print(f'The dimension of array x1 =\\t{x3.ndim}')"
   ]
  },
  {
   "cell_type": "code",
   "execution_count": 13,
   "id": "4c727348",
   "metadata": {},
   "outputs": [
    {
     "name": "stdout",
     "output_type": "stream",
     "text": [
      "The shape of array x3 =\t(3, 4, 6)\n",
      "The size of array x3 =\t72\n"
     ]
    }
   ],
   "source": [
    "print(f'The shape of array x3 =\\t{x3.shape}')\n",
    "print(f'The size of array x3 =\\t{x3.size}')"
   ]
  },
  {
   "cell_type": "code",
   "execution_count": 19,
   "id": "1f89e5f3",
   "metadata": {},
   "outputs": [
    {
     "name": "stdout",
     "output_type": "stream",
     "text": [
      "The data type of array x1 =\tint32\n",
      "The datatype of array x3 =\tint64\n"
     ]
    }
   ],
   "source": [
    "print(f'The data type of array x1 =\\t{x1.dtype}')\n",
    "print(f'The datatype of array x3 =\\t{x3.dtype}')"
   ]
  },
  {
   "cell_type": "markdown",
   "id": "18861c55",
   "metadata": {},
   "source": [
    "## Accessing Element"
   ]
  },
  {
   "cell_type": "code",
   "execution_count": 21,
   "id": "59b3ed0f",
   "metadata": {},
   "outputs": [
    {
     "name": "stdout",
     "output_type": "stream",
     "text": [
      "5\n",
      "[3 5 2 4]\n",
      "[[8 1 5 9 8 9]\n",
      " [4 3 0 3 5 0]\n",
      " [2 3 8 1 3 3]\n",
      " [3 7 0 1 9 9]]\n",
      "5\n",
      "3\n"
     ]
    }
   ],
   "source": [
    "print(x1[0])\n",
    "print(x2[0])\n",
    "print(x3[0])\n",
    "\n",
    "print(x2[0][1])\n",
    "print(x3[0][1][1])"
   ]
  },
  {
   "cell_type": "markdown",
   "id": "b7d74273",
   "metadata": {},
   "source": [
    "## Array Slicing\n"
   ]
  },
  {
   "cell_type": "code",
   "execution_count": 10,
   "id": "78e6dd75",
   "metadata": {},
   "outputs": [
    {
     "name": "stdout",
     "output_type": "stream",
     "text": [
      "[0 1 2 3 4 5 6 7 8 9]\n",
      "[2 3 4]\n",
      "[2 4 6]\n",
      "[0 2 4 6 8]\n",
      "[9 8 7 6 5 4 3 2 1 0]\n",
      "[5 3 1]\n"
     ]
    }
   ],
   "source": [
    "x4 = np.arange(10)\n",
    "print(x4)\n",
    "print(x4[2 : 5])\n",
    "print(x4[2 : 8 : 2])\n",
    "print(x4[: : 2])\n",
    "\n",
    "# reverse the array\n",
    "print(x4[::-1])\n",
    "print(x4[5 :: -2])"
   ]
  },
  {
   "cell_type": "code",
   "execution_count": null,
   "id": "e4900102",
   "metadata": {},
   "outputs": [
    {
     "name": "stdout",
     "output_type": "stream",
     "text": [
      "[[3 5 2 4]\n",
      " [7 6 8 8]\n",
      " [1 6 7 7]]\n",
      "\n",
      "\n",
      "[[7 6 8 8]\n",
      " [1 6 7 7]]\n",
      "\n",
      "\n",
      "[[3 5 2 4]\n",
      " [1 6 7 7]]\n",
      "\n",
      "\n",
      "[[8 8]\n",
      " [7 7]]\n"
     ]
    }
   ],
   "source": [
    "print(x2)\n",
    "print(\"\\n\")\n",
    "print(x2[1:]) # rows start with 1st row\n",
    "print(\"\\n\")\n",
    "print(x2[::2]) # rows with step size 2\n",
    "print(\"\\n\")\n",
    "print(x2[1:,2::1]) # 1st row and colom start with 2 with step size 1"
   ]
  },
  {
   "cell_type": "markdown",
   "id": "0656b155",
   "metadata": {},
   "source": [
    "#### note : \n",
    " One important—and extremely useful—thing to know about array slices is that they\n",
    " return views rather than copies of the array data. This is one area in which NumPy\n",
    " array slicing differs from Python list slicing: in lists, slices will be copies."
   ]
  },
  {
   "cell_type": "code",
   "execution_count": 46,
   "id": "89b14b63",
   "metadata": {},
   "outputs": [
    {
     "name": "stdout",
     "output_type": "stream",
     "text": [
      "[[   3    5    2    4]\n",
      " [   7    6    8    8]\n",
      " [ 500 1000 1000 1000]]\n",
      "before changing the sub array \n",
      "\n",
      "[[ 500 1000 1000 1000]]\n",
      "After changing the Sub array \n",
      "[[ 500 1000 1000 1000]]\n"
     ]
    }
   ],
   "source": [
    "print(x2)\n",
    "x2_sub_arr = x2[2 : ]\n",
    "print(\"before changing the sub array \\n\")\n",
    "print(x2_sub_arr)\n",
    "x2_sub_arr[0][0] = 500\n",
    "print(\"After changing the Sub array \")\n",
    "print(x2_sub_arr)\n",
    "\n",
    "# we notice oringinal array is also changed.\n"
   ]
  },
  {
   "cell_type": "markdown",
   "id": "26f150cb",
   "metadata": {},
   "source": [
    "This can be resolved using copy method."
   ]
  },
  {
   "cell_type": "code",
   "execution_count": 50,
   "id": "88fd796c",
   "metadata": {},
   "outputs": [
    {
     "name": "stdout",
     "output_type": "stream",
     "text": [
      "[[3 5 2 4]\n",
      " [7 6 8 8]\n",
      " [1 6 7 7]]\n",
      "Before changing :\n",
      "\n",
      "[[1 6 7 7]]\n",
      "After changing \n",
      "\n",
      "[[123 123 123 123]]\n"
     ]
    }
   ],
   "source": [
    "print(x2)\n",
    "x2_sub_arr2 = x2[2:].copy()\n",
    "print(\"Before changing :\\n\")\n",
    "print(x2_sub_arr2)\n",
    "x2_sub_arr2[0] = 123\n",
    "print(\"After changing \\n\")\n",
    "print(x2_sub_arr2)\n",
    "# note : The original array is not changed."
   ]
  },
  {
   "cell_type": "markdown",
   "id": "524a0ee5",
   "metadata": {},
   "source": [
    "### Array Reshaping"
   ]
  },
  {
   "cell_type": "code",
   "execution_count": 7,
   "id": "09632aef",
   "metadata": {},
   "outputs": [
    {
     "name": "stdout",
     "output_type": "stream",
     "text": [
      "[[ 0  1  2  3  4  5]\n",
      " [ 6  7  8  9 10 11]]\n",
      "[[ 0  1  2  3  4  5]\n",
      " [ 6  7  8  9 10 11]]\n",
      "[[ 0  1  2  3]\n",
      " [ 4  5  6  7]\n",
      " [ 8  9 10 11]]\n"
     ]
    }
   ],
   "source": [
    "x1 = np.arange(12).reshape(2,6)\n",
    "print(x1)\n",
    "# reshaping the x1 with (3,4)\n",
    "x2 = x1.reshape(3,4)\n",
    "# reshape gives the copy\n",
    "print(x1)\n",
    "print(x2)"
   ]
  },
  {
   "cell_type": "markdown",
   "id": "75b3ad81",
   "metadata": {},
   "source": []
  }
 ],
 "metadata": {
  "kernelspec": {
   "display_name": "Python 3",
   "language": "python",
   "name": "python3"
  },
  "language_info": {
   "codemirror_mode": {
    "name": "ipython",
    "version": 3
   },
   "file_extension": ".py",
   "mimetype": "text/x-python",
   "name": "python",
   "nbconvert_exporter": "python",
   "pygments_lexer": "ipython3",
   "version": "3.13.1"
  }
 },
 "nbformat": 4,
 "nbformat_minor": 5
}
